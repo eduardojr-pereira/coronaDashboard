{
 "cells": [
  {
   "cell_type": "markdown",
   "id": "aae7fe15",
   "metadata": {
    "heading_collapsed": true
   },
   "source": [
    "## Visão Geral\n",
    "<p style=\"text-align: justify\"> O aplicativo CovidDash foi desenvolvido com o objetivo de fornecer informações atualizadas e relevantes sobre a evolução do COVID-19 no Brasil. Por meio de ferramentas interativas, como gráficos, mapas e comparações de dados, o aplicativo permite que os usuários acompanhem e compreendam a situação da pandemia no país.</p><br>\n",
    "\n",
    "Para ver mais projetos como esse, acesse: \n",
    ">- [Portifolio de Ciênciaa de Dados](https://dados.gov.br/home \"Porfólio Eduardo Pereira\")<br>\n",
    ">- [Repositório Github](https://dados.gov.br/home \"GitHub Eduardo Pereira\")\n",
    "\n",
    "Entre em contato:\n",
    ">- [Linkedin](https://dados.gov.br/home \"Linkedin Eduardo Pereira\")"
   ]
  },
  {
   "cell_type": "markdown",
   "id": "14f62fb9",
   "metadata": {
    "heading_collapsed": true,
    "hidden": true
   },
   "source": [
    "### <center><br> 1.1. O problema e sua importância </center>\n",
    " <p style=\"text-align: justify\">\n",
    "    A pandemia do COVID-19 tem impactado significativamente no Brasil e no mundo. Acompanhar a evolução dos casos, das taxas de transmissão e dos esforços de controle é de extrema importância. O aplicativo Dash aborda esse problema, fornecendo informações confiáveis e atualizadas, ajudando a população a tomar decisões informadas e adotar medidas de proteção adequadas.\n",
    "<br><br>Além disso, a disseminação de informações confiáveis é essencial para combater a desinformação e contribuir para uma compreensão clara da situação atual da pandemia no Brasil. O aplicativo Dash visa suprir essa necessidade, fornecendo uma plataforma confiável e acessível para a visualização e análise dos dados relacionados ao COVID-19.</p><hr>\n",
    "\n",
    "### <center><br> 1.2. Objetivos</center>\n",
    "<ol>\n",
    "    <li>Fornecer dados atualizados e confiáveis sobre o COVID-19 no Brasil.</li>\n",
    "    <li>Permitir a visualização da evolução da pandemia em diferentes regiões do país.</li>\n",
    "    <li>Oferecer ferramentas interativas para análise e visualização dos dados, auxiliando na identificação de tendências e padrões.</li>\n",
    "    <li>Facilitar a compreensão dos dados através de gráficos e tabelas interativas.</li>\n",
    "    <li>Possibilitar a comparação entre diferentes estados e municípios em relação ao número de casos e óbitos.</li></ol><hr>\n",
    "\n",
    "### <center><br> 1.3. Recursos e tecnologias utilizadas</center>\n",
    "<p style=\"text-align justify\">O desenvolvimento do aplicativo Dash para acompanhar a evolução do COVID-19 no Brasil fez uso das seguintes bibliotecas e tecnologias:</p>\n",
    "\n",
    "- **NumPy**: Biblioteca Python para realizar cálculos numéricos eficientes.\n",
    "- **Pandas**: Biblioteca Python para análise e manipulação de dados.\n",
    "- **Dash**: Framework Python para a criação de aplicativos web interativos.\n",
    "- **Dash Bootstrap Components**: Conjunto de componentes Bootstrap para uso no Dash.\n",
    "- **Plotly**: Biblioteca Python para a criação de gráficos interativos.\n",
    "- **HTML e CSS**: Linguagens de marcação e estilo para construir a interface do aplicativo Dash.\n",
    "- **JSON**: Biblioteca Python para trabalhar com dados no formato JSON.\n",
    "- **Jupyter Notebooks**: Ambiente interativo para escrever e executar código Python de forma exploratória.\n",
    "- **Visual Studio Code**: Ambiente de desenvolvimento integrado (IDE) para escrever, depurar e executar o código Python.\n",
    "\n",
    "\n",
    "<p style=\"text-align justify\">Essas bibliotecas e tecnologias foram utilizadas em conjunto para criar um aplicativo Dash poderoso e flexível, capaz de fornecer informações atualizadas e visualizações interativas sobre a evolução do COVID-19 no Brasil.</p><hr>\n",
    "   \n",
    "### <center><br> 1.4. Conjunto de dados</center>\n",
    "#### Covid-19 dataset \n",
    "<p style=\"text-align justify\">Esse conjunto de dados consiste em informações relacionadas à evolução do COVID-19 no Brasil.</p>\n",
    "\n",
    "##### Descrição\n",
    "> O conjunto de dados para o covid-19 utilizado nesse projeto é disponibilizado diariamente pelo Ministério da Saúde através do [Portal Brasileiro de Dados Abertos](https://dados.gov.br/home \"Fonte dos dados - COVID-19\") e as informações contidas no dataset incluem dados sobre casos e óbitos por COVID-19 no Brasil, desagregados por estado, município e data.\n",
    "O dataset fornece informações valiosas para acompanhar a evolução do COVID-19 no Brasil, permitindo análises e visualizações para entender a propagação da doença.<br><br>Esse conjunto de dados apresenta um total de 6.406.528 registros e 17 colunas, além disso a memória utilizada pelo DataFrame é de aproximadamente 879,8MB.\n",
    "\n",
    "##### Conjunto de dados\n",
    "> ||<center>Variável</center>|<center>Tipo</center>|<center>Descrição</center>|\n",
    "> |:---|:---|:---|:---|\n",
    "> |1|regiao|object|Macroregião do Brasil|\n",
    "> |2|estado|object|Sigla do estado onde aconteceu o registro|\n",
    "> |3|municipio|object|Nome do município onde aconteceu o registro|\n",
    "> |4|coduf|int64|Código númerico que identifica as Unidades Federativas do Brasil|\n",
    "> |5|codmun|float64|Código numérico que identifica os municípios das Unidades Federativas do Brasil|\n",
    "> |6|codRegiaoSaude|float64|Código numérico que identifica as regiões de saúde do Brasil|\n",
    "> |7|nomeRegiaoSaude|object|Nome das regiões de saúde do Brasil|\n",
    "> |8|data|object|Data correspondente aos registros|\n",
    "> |9|semanaEpi|int64|Número da semana epidemiológica|\n",
    "> |10|populacaoTCU2019|float64|População estimada em 2019 para cada região|\n",
    "> |11|casosAcumulado|float64|Número acumulado de casos de COVID-19 até a data|\n",
    "> |12|casosNovos|int64|Número de novos casos de COVID-19 registrados na data|\n",
    "> |13|obitosAcumulado|int64|Número acumulado de óbitos por COVID-19 até a data|\n",
    "> |14|obitosNovos|int64|Número de novos óbitos por COVID-19 registrados na data|\n",
    "> |15|Recuperadosnovos|float64|Número de novos casos que se recuperaram da doença na data|\n",
    "> |16|emAcompanhamentoNovos|float64|Número de casos que estão em acompanhamento na data|\n",
    "> |17|interior/metropolitana|float64|Código binário que indica se uma determinada região é classificada como metropolitana (valor 1) ou interior (valor 0)|\n",
    "\n",
    "<br>\n",
    "\n",
    "#### Leitos complementares dataset\n",
    "<p style=\"text-align justify\">Esse conjunto de dados consiste em informações relacionadas à quantidade de leitos nas Unidades de Tratamento Intensivo destinádos à COVID-19 no Brasi.</p>\n",
    "\n",
    "##### Descrição\n",
    "> O segundo conjunto de dados consiste em informações abrangentes sobre estabelecimentos de saúde, oferecendo uma visão completa sobre a localização, capacidade de leitos e aspectos relacionados à COVID-19 desses estabelecimentos. Esses dados podem ser acessados e visualizados no website do [Cadastro Nacional de Estabelecimentos de Saúde (CNES)](https://elasticnes.saude.gov.br \"Fonte dos dados - Leitos complementares\"), que é uma fonte confiável e oficial para informações sobre estabelecimentos de saúde no Brasil.<br>Essas informações são de grande valor para análises e estudos relacionados à infraestrutura de saúde, planejamento de recursos e monitoramento da situação da COVID-19.<br><br> Em suma, o conjunto de dados é composto por 45.998 registros, distribuídos em 18 colunas e requer um espaço de armazenamento de aproximadamente 6.3MB.<br>\n",
    "##### Conjunto de dados\n",
    "> ||<center>Variável</center>|<center>Tipo</center>|<center>Descrição</center>|\n",
    "> |:---|:---|:---|:---|\n",
    "> |1|COMPETÊNCIA|object|Data correspondente aos registros|\n",
    "> |2|UF|object|Sigla do estado onde está localizado o estabelecimento de saúde|\n",
    "> |3|CÓDIGO DO MUNICÍPIO|int64|Código numérico do município onde está localizado o estabelecimento de saúde|\n",
    "> |4|MUNICÍPIO|object|Nome do município onde está localizado o estabelecimento de saúde|\n",
    "> |5|CNES|int64|Código único do estabelecimento de saúde no Cadastro Nacional de Estabelecimentos de Saúde|\n",
    "> |6|NOME FANTASIA|object|Nome comercial ou fantasia do estabelecimento de saúde|\n",
    "> |7|NATUREZA JURÍDICA CATEGORIA|object|Categoria que descreve a natureza jurídica do estabelecimento de saúde (SEM FINS LUCRATIVOS, PÚBLICO ou PRIVADO)|\n",
    "> |8|TIPO DO ESTABELECIMENTO|object|Tipo de estabelecimento de saúde|\n",
    "> |9|CONVÊNIO SUS|object|Indica se o estabelecimento possui convênio com o Sistema Único de Saúde|\n",
    "> |10|GESTÃO|object|Tipo de gestão do estabelecimento de saúde (ESTADUAL, MUNICIPAL ou DUPLA)|\n",
    "> |11|LEITOS EXISTENTES (TOTAL)|object|Número total de leitos existentes no estabelecimento|\n",
    "> |12|LEITOS SUS (TOTAL)|object|Número total de leitos do SUS no estabelecimento|c|\n",
    "> |13|LEITOS UTI II ADULTO (COVID) EXISTENTE|object|Número de leitos de UTI para adultos existentes no estabelecimento relacionados à COVID-19|\n",
    "> |14|LEITOS UTI II ADULTO (COVID) SUS|object|Número de leitos de UTI para adultos do SUS relacionados à COVID-19 no estabelecimento|\n",
    "> |15|LEITOS UTI II PEDIÁTRICA (COVID) EXISTENTE|object|Número de leitos de UTI pediátrica existentes no estabelecimento relacionados à COVID-19|\n",
    "> |16|LEITOS UTI II PEDIÁTRICA (COVID) SUS|object|Número de leitos de UTI pediátrica do SUS relacionados à COVID-19 no estabelecimento|\n",
    "> |17|LEITOS SUPORTE VENTILATÓRIO PULMONAR (COVID) EXISTENTE|object|Número de leitos com suporte ventilatório pulmonar existentes no estabelecimento relacionados à COVID-19|\n",
    "> |18|LEITOS SUPORTE VENTILATÓRIO PULMONAR (COVID) SUS|object|Número de leitos com suporte ventilatório pulmonar do SUS relacionados à COVID-19 no estabelecimento|\n"
   ]
  },
  {
   "cell_type": "markdown",
   "id": "39b47ef1",
   "metadata": {},
   "source": [
    "## Importar bibliotecas"
   ]
  },
  {
   "cell_type": "code",
   "execution_count": 1,
   "id": "6922d3c3",
   "metadata": {
    "scrolled": false
   },
   "outputs": [
    {
     "name": "stdout",
     "output_type": "stream",
     "text": [
      "Numpy version: 1.24.3\n",
      "Pandas version: 1.5.3\n",
      "Bibliotecas importadas com sucesso!\n",
      "===================================\n",
      "Último update: 07/06/2023 às 04:12\n"
     ]
    }
   ],
   "source": [
    "import numpy as np\n",
    "import pandas as pd\n",
    "import os \n",
    "import locale\n",
    "import zipfile \n",
    "from glob import glob\n",
    "from datetime import datetime as dt\n",
    "\n",
    "locale.setlocale(locale.LC_TIME, 'pt_BR')\n",
    "\n",
    "print('Numpy version: {}'.format(np.__version__))\n",
    "print('Pandas version: {}'.format(pd.__version__))\n",
    "print(\"Bibliotecas importadas com sucesso!\\n\"+\"=\"*35)\n",
    "print(f\"Último update: {dt.now().strftime('%d/%m/%Y às %H:%M')}\")"
   ]
  },
  {
   "cell_type": "markdown",
   "id": "0dad6b2a",
   "metadata": {},
   "source": [
    "## Carregar os dados"
   ]
  },
  {
   "cell_type": "markdown",
   "id": "a47de032",
   "metadata": {},
   "source": [
    "### Covid dataset\n",
    "> [CORONA VÍRUS BRASIL DATASET](https://covid.saude.gov.br/ \"Fazer download dos dados\")"
   ]
  },
  {
   "cell_type": "code",
   "execution_count": 2,
   "id": "06f836f2",
   "metadata": {},
   "outputs": [],
   "source": [
    "data_path = os.path.join(\"..\",\"data\",\"raw\")\n",
    "output_data_path = os.path.join(\"..\",\"data\", \"processed\")"
   ]
  },
  {
   "cell_type": "code",
   "execution_count": 3,
   "id": "30085c78",
   "metadata": {},
   "outputs": [
    {
     "name": "stdout",
     "output_type": "stream",
     "text": [
      "Arquivo HIST_PAINEL_COVIDBR_02jun2023.zip descompactado no diretório: ..\\data\\raw\n"
     ]
    }
   ],
   "source": [
    "#zip_file_name = f\"HIST_PAINEL_COVIDBR_{dt.now().strftime('%d%b%Y')}.zip\"\n",
    "zip_file_name = \"HIST_PAINEL_COVIDBR_02jun2023.zip\"\n",
    "zip_data_path = os.path.join(data_path, zip_file_name)\n",
    "\n",
    "with zipfile.ZipFile(zip_data_path, 'r') as data_zip:\n",
    "    data_zip.extractall(data_path)\n",
    "\n",
    "print(f\"Arquivo {zip_file_name} descompactado no diretório: {data_path}\")"
   ]
  },
  {
   "cell_type": "code",
   "execution_count": 4,
   "id": "6601183c",
   "metadata": {},
   "outputs": [
    {
     "name": "stdout",
     "output_type": "stream",
     "text": [
      "<class 'pandas.core.frame.DataFrame'>\n",
      "Int64Index: 6535765 entries, 0 to 859706\n",
      "Data columns (total 17 columns):\n",
      " #   Column                  Dtype  \n",
      "---  ------                  -----  \n",
      " 0   regiao                  object \n",
      " 1   estado                  object \n",
      " 2   municipio               object \n",
      " 3   coduf                   int64  \n",
      " 4   codmun                  float64\n",
      " 5   codRegiaoSaude          float64\n",
      " 6   nomeRegiaoSaude         object \n",
      " 7   data                    object \n",
      " 8   semanaEpi               int64  \n",
      " 9   populacaoTCU2019        float64\n",
      " 10  casosAcumulado          float64\n",
      " 11  casosNovos              int64  \n",
      " 12  obitosAcumulado         int64  \n",
      " 13  obitosNovos             int64  \n",
      " 14  Recuperadosnovos        float64\n",
      " 15  emAcompanhamentoNovos   float64\n",
      " 16  interior/metropolitana  float64\n",
      "dtypes: float64(7), int64(5), object(5)\n",
      "memory usage: 897.6+ MB\n"
     ]
    }
   ],
   "source": [
    "file_name=\"HIST_PAINEL_*.csv\"\n",
    "file_path = os.path.join(data_path, file_name)\n",
    "files = sorted(glob(file_path))\n",
    "covid_data = pd.concat((pd.read_csv(file, sep=\";\") for file in files))\n",
    "covid_data.info()"
   ]
  },
  {
   "cell_type": "code",
   "execution_count": 5,
   "id": "a20e2639",
   "metadata": {},
   "outputs": [
    {
     "name": "stdout",
     "output_type": "stream",
     "text": [
      "O dataset tem 6535765 linhas e 17 colunas.\n",
      "Total de colunas com registros ausentes: 9\n"
     ]
    }
   ],
   "source": [
    "print(f\"O dataset tem {covid_data.shape[0]} linhas e {covid_data.shape[1]} colunas.\")\n",
    "print(f\"Total de colunas com registros ausentes: {covid_data.isnull().any().sum()}\")"
   ]
  },
  {
   "cell_type": "code",
   "execution_count": 6,
   "id": "5d37f430",
   "metadata": {},
   "outputs": [],
   "source": [
    "def verificarAusentes(data):\n",
    "    \"\"\"\n",
    "    Retorna a quantidade e o percentual de valores ausentes para cada coluna do DataFrame\n",
    "    \n",
    "    Parâmetros:\n",
    "    data -- DataFrame do pandas a ser verificado\n",
    "    \"\"\"\n",
    "    print(\"Registros ausentes por coluna:\")  \n",
    "    for coluna in data.columns:\n",
    "        total_ausentes = data[coluna].isnull().sum()\n",
    "        percentual_ausentes = (total_ausentes / data.shape[0]) * 100\n",
    "        print(f\"> {coluna}, ausentes: {total_ausentes} ({percentual_ausentes:.2f}%)\")"
   ]
  },
  {
   "cell_type": "code",
   "execution_count": 7,
   "id": "79b18682",
   "metadata": {},
   "outputs": [
    {
     "name": "stdout",
     "output_type": "stream",
     "text": [
      "Registros ausentes por coluna:\n",
      "> regiao, ausentes: 0 (0.00%)\n",
      "> estado, ausentes: 1194 (0.02%)\n",
      "> municipio, ausentes: 57855 (0.89%)\n",
      "> coduf, ausentes: 0 (0.00%)\n",
      "> codmun, ausentes: 33432 (0.51%)\n",
      "> codRegiaoSaude, ausentes: 57855 (0.89%)\n",
      "> nomeRegiaoSaude, ausentes: 57855 (0.89%)\n",
      "> data, ausentes: 0 (0.00%)\n",
      "> semanaEpi, ausentes: 0 (0.00%)\n",
      "> populacaoTCU2019, ausentes: 24423 (0.37%)\n",
      "> casosAcumulado, ausentes: 0 (0.00%)\n",
      "> casosNovos, ausentes: 0 (0.00%)\n",
      "> obitosAcumulado, ausentes: 0 (0.00%)\n",
      "> obitosNovos, ausentes: 0 (0.00%)\n",
      "> Recuperadosnovos, ausentes: 6534572 (99.98%)\n",
      "> emAcompanhamentoNovos, ausentes: 6534572 (99.98%)\n",
      "> interior/metropolitana, ausentes: 57855 (0.89%)\n"
     ]
    }
   ],
   "source": [
    "verificarAusentes(covid_data)"
   ]
  },
  {
   "cell_type": "markdown",
   "id": "ef21c77e",
   "metadata": {},
   "source": [
    "##### Registros ausentes\n",
    "> A presença de registros ausentes está relacionada às estatísticas generalizadas para o país, não agregadas por Macroregião, Estado e municípios. Nesse contexto, é fundamental ter cautela ao interpretar os registros ausentes nas colunas mencionadas, uma vez que eles estão relacionados aos dados generalizados para o Brasil e podem não refletir diretamente as informações específicas por região ou município.<br><br>É importante destacar que, embora haja registros ausentes nessas estatísticas generalizadas, os dados subsequentes no dataframe podem fornecer informações mais detalhadas e específicas por Macroregião, Estado e municípios. Portanto, é recomendado considerar as informações adicionais disponíveis nas demais linhas do dataframe para uma análise mais completa e precisa."
   ]
  },
  {
   "cell_type": "markdown",
   "id": "91faee33",
   "metadata": {},
   "source": [
    "## Limpeza dos dados"
   ]
  },
  {
   "cell_type": "markdown",
   "id": "ebefbc52",
   "metadata": {},
   "source": [
    "### Covid dataset"
   ]
  },
  {
   "cell_type": "code",
   "execution_count": 8,
   "id": "1eb0ac1f",
   "metadata": {},
   "outputs": [],
   "source": [
    "# Modificar coluna data para o formato datetime64[ns]\n",
    "covid_data[\"data\"]= pd.to_datetime(covid_data[\"data\"])"
   ]
  },
  {
   "cell_type": "code",
   "execution_count": 9,
   "id": "526712b0",
   "metadata": {},
   "outputs": [],
   "source": [
    "# Checar o dtype de cada coluna e modificá-los para inteiro se forem float\n",
    "for col in covid_data.columns:\n",
    "    if covid_data[col].dtype == 'float':\n",
    "        covid_data[col] = covid_data[col].fillna(0).astype(\"int64\")"
   ]
  },
  {
   "cell_type": "code",
   "execution_count": 10,
   "id": "28e1d601",
   "metadata": {},
   "outputs": [],
   "source": [
    "# Separar os dados não agregados por Macroregiao, Estado e município\n",
    "brasil_df = covid_data[covid_data[\"regiao\"] == \"Brasil\"]"
   ]
  },
  {
   "cell_type": "code",
   "execution_count": 11,
   "id": "62f683e0",
   "metadata": {},
   "outputs": [
    {
     "name": "stdout",
     "output_type": "stream",
     "text": [
      "<class 'pandas.core.frame.DataFrame'>\n",
      "RangeIndex: 1194 entries, 0 to 1193\n",
      "Data columns (total 7 columns):\n",
      " #   Column                 Non-Null Count  Dtype         \n",
      "---  ------                 --------------  -----         \n",
      " 0   data                   1194 non-null   datetime64[ns]\n",
      " 1   casosAcumulado         1194 non-null   int64         \n",
      " 2   casosNovos             1194 non-null   int64         \n",
      " 3   obitosAcumulado        1194 non-null   int64         \n",
      " 4   obitosNovos            1194 non-null   int64         \n",
      " 5   Recuperadosnovos       1194 non-null   int64         \n",
      " 6   emAcompanhamentoNovos  1194 non-null   int64         \n",
      "dtypes: datetime64[ns](1), int64(6)\n",
      "memory usage: 65.4 KB\n"
     ]
    }
   ],
   "source": [
    "# Dropar as colunas desnecessárisa do DataFrame brasil_df\n",
    "br_df_drop_cols = ['regiao',\n",
    "                   'estado',\n",
    "                   'municipio',\n",
    "                   'coduf',\n",
    "                   'codmun',\n",
    "                   'codRegiaoSaude',\n",
    "                   'semanaEpi',\n",
    "                   'populacaoTCU2019',\n",
    "                   'nomeRegiaoSaude',\n",
    "                   \"interior/metropolitana\"]\n",
    "\n",
    "brasil_df = brasil_df.drop(br_df_drop_cols, axis=1).reset_index(drop=True)\n",
    "brasil_df.info()"
   ]
  },
  {
   "cell_type": "code",
   "execution_count": 12,
   "id": "5dcf9ba3",
   "metadata": {},
   "outputs": [
    {
     "name": "stdout",
     "output_type": "stream",
     "text": [
      "O dataset tem 1194 linhas e 7 colunas.\n",
      "Total de colunas com registros ausentes: 0\n",
      "Registros ausentes por coluna:\n",
      "> data, ausentes: 0 (0.00%)\n",
      "> casosAcumulado, ausentes: 0 (0.00%)\n",
      "> casosNovos, ausentes: 0 (0.00%)\n",
      "> obitosAcumulado, ausentes: 0 (0.00%)\n",
      "> obitosNovos, ausentes: 0 (0.00%)\n",
      "> Recuperadosnovos, ausentes: 0 (0.00%)\n",
      "> emAcompanhamentoNovos, ausentes: 0 (0.00%)\n"
     ]
    }
   ],
   "source": [
    "print(f\"O dataset tem {brasil_df.shape[0]} linhas e {brasil_df.shape[1]} colunas.\")\n",
    "print(f\"Total de colunas com registros ausentes: {brasil_df.isnull().any().sum()}\")\n",
    "verificarAusentes(brasil_df)"
   ]
  },
  {
   "cell_type": "code",
   "execution_count": 13,
   "id": "50cabf05",
   "metadata": {},
   "outputs": [],
   "source": [
    "# Salvar o DataFrame resultante em um arquivo CSV\n",
    "brasil_df.to_csv(os.path.join(output_data_path, 'covid_br_dataset.csv'), index=False)"
   ]
  },
  {
   "cell_type": "code",
   "execution_count": 14,
   "id": "78b441df",
   "metadata": {},
   "outputs": [],
   "source": [
    "# Separar os dados agregados por Macroregiao, Estado e município\n",
    "estados_df = covid_data.loc[covid_data['regiao']!=\"Brasil\"]"
   ]
  },
  {
   "cell_type": "code",
   "execution_count": 15,
   "id": "2bbe361d",
   "metadata": {
    "scrolled": true
   },
   "outputs": [],
   "source": [
    "# Dropar as colunas desnecessárisa do DataFrame estados_df\n",
    "estados_df_drop_cols = ['municipio',\n",
    "                        'codmun',\n",
    "                        'codRegiaoSaude',\n",
    "                        'semanaEpi',\n",
    "                        'nomeRegiaoSaude']\n",
    "\n",
    "estados_df = estados_df.drop(estados_df_drop_cols, axis=1).reset_index(drop=True)"
   ]
  },
  {
   "cell_type": "code",
   "execution_count": 16,
   "id": "bf241116",
   "metadata": {},
   "outputs": [
    {
     "name": "stdout",
     "output_type": "stream",
     "text": [
      "<class 'pandas.core.frame.DataFrame'>\n",
      "RangeIndex: 6534571 entries, 0 to 6534570\n",
      "Data columns (total 12 columns):\n",
      " #   Column                  Dtype         \n",
      "---  ------                  -----         \n",
      " 0   regiao                  object        \n",
      " 1   siglaUF                 object        \n",
      " 2   estado                  object        \n",
      " 3   data                    datetime64[ns]\n",
      " 4   populacaoTCU2019        int64         \n",
      " 5   casosAcumulado          int64         \n",
      " 6   casosNovos              int64         \n",
      " 7   obitosAcumulado         int64         \n",
      " 8   obitosNovos             int64         \n",
      " 9   Recuperadosnovos        int64         \n",
      " 10  emAcompanhamentoNovos   int64         \n",
      " 11  interior/metropolitana  int64         \n",
      "dtypes: datetime64[ns](1), int64(8), object(3)\n",
      "memory usage: 598.3+ MB\n"
     ]
    }
   ],
   "source": [
    "# Dicionário com os códigos de UF e nomes dos estados correspondentes\n",
    "codigo_uf = {\n",
    "    11: 'Rondônia',\n",
    "    12: 'Acre',\n",
    "    13: 'Amazonas',\n",
    "    14: 'Roraima',\n",
    "    15: 'Pará',\n",
    "    16: 'Amapá',\n",
    "    17: 'Tocantins',\n",
    "    21: 'Maranhão',\n",
    "    22: 'Piauí',\n",
    "    23: 'Ceará',\n",
    "    24: 'Rio Grande do Norte',\n",
    "    25: 'Paraíba',\n",
    "    26: 'Pernambuco',\n",
    "    27: 'Alagoas',\n",
    "    28: 'Sergipe',\n",
    "    29: 'Bahia',\n",
    "    31: 'Minas Gerais',\n",
    "    32: 'Espírito Santo',\n",
    "    33: 'Rio de Janeiro',\n",
    "    35: 'São Paulo',\n",
    "    41: 'Paraná',\n",
    "    42: 'Santa Catarina',\n",
    "    43: 'Rio Grande do Sul',\n",
    "    50: 'Mato Grosso do Sul',\n",
    "    51: 'Mato Grosso',\n",
    "    52: 'Goiás',\n",
    "    53: 'Distrito Federal'\n",
    "}\n",
    "# Substituir os valores inteiros pelos nomes dos estados\n",
    "estados_df['coduf'] = estados_df['coduf'].map(codigo_uf)\n",
    "\n",
    "# Renomear a coluna \"coduf\" para \"siglaUF\"\n",
    "estados_df.rename(columns={'estado': 'siglaUF', \"coduf\":\"estado\"}, inplace=True)\n",
    "estados_df.info()"
   ]
  },
  {
   "cell_type": "code",
   "execution_count": 17,
   "id": "53ec32b6",
   "metadata": {},
   "outputs": [
    {
     "name": "stdout",
     "output_type": "stream",
     "text": [
      "O dataset tem 6534571 linhas e 12 colunas.\n",
      "Total de colunas com registros ausentes: 0\n",
      "Registros ausentes por coluna:\n",
      "> regiao, ausentes: 0 (0.00%)\n",
      "> siglaUF, ausentes: 0 (0.00%)\n",
      "> estado, ausentes: 0 (0.00%)\n",
      "> data, ausentes: 0 (0.00%)\n",
      "> populacaoTCU2019, ausentes: 0 (0.00%)\n",
      "> casosAcumulado, ausentes: 0 (0.00%)\n",
      "> casosNovos, ausentes: 0 (0.00%)\n",
      "> obitosAcumulado, ausentes: 0 (0.00%)\n",
      "> obitosNovos, ausentes: 0 (0.00%)\n",
      "> Recuperadosnovos, ausentes: 0 (0.00%)\n",
      "> emAcompanhamentoNovos, ausentes: 0 (0.00%)\n",
      "> interior/metropolitana, ausentes: 0 (0.00%)\n"
     ]
    }
   ],
   "source": [
    "print(f\"O dataset tem {estados_df.shape[0]} linhas e {estados_df.shape[1]} colunas.\")\n",
    "print(f\"Total de colunas com registros ausentes: {estados_df.isnull().any().sum()}\")\n",
    "verificarAusentes(estados_df)"
   ]
  },
  {
   "cell_type": "code",
   "execution_count": 18,
   "id": "22a6ec3c",
   "metadata": {},
   "outputs": [],
   "source": [
    "# Salvar o DataFrame resultante em um arquivo CSV\n",
    "estados_df.to_csv(os.path.join(output_data_path, 'covid_estados_dataset.csv'), index=False)"
   ]
  }
 ],
 "metadata": {
  "kernelspec": {
   "display_name": "Python 3 (ipykernel)",
   "language": "python",
   "name": "python3"
  },
  "language_info": {
   "codemirror_mode": {
    "name": "ipython",
    "version": 3
   },
   "file_extension": ".py",
   "mimetype": "text/x-python",
   "name": "python",
   "nbconvert_exporter": "python",
   "pygments_lexer": "ipython3",
   "version": "3.11.3"
  }
 },
 "nbformat": 4,
 "nbformat_minor": 5
}
